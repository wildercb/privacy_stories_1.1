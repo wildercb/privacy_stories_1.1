{
 "cells": [
  {
   "cell_type": "code",
   "execution_count": null,
   "metadata": {},
   "outputs": [
    {
     "name": "stderr",
     "output_type": "stream",
     "text": [
      "c:\\Users\\Baldw\\AppData\\Local\\Programs\\Python\\Python311\\Lib\\site-packages\\tqdm\\auto.py:21: TqdmWarning: IProgress not found. Please update jupyter and ipywidgets. See https://ipywidgets.readthedocs.io/en/stable/user_install.html\n",
      "  from .autonotebook import tqdm as notebook_tqdm\n"
     ]
    },
    {
     "name": "stdout",
     "output_type": "stream",
     "text": [
      "Using existing prompts data JSON: data/annotations/prompts_data.json\n"
     ]
    }
   ],
   "source": [
    "#########################\n",
    "# Imports \n",
    "######################\n",
    "import json\n",
    "import getpass\n",
    "import sys\n",
    "import os\n",
    "\n",
    "#Local \n",
    "notebook_dir = os.path.abspath(\".\")\n",
    "project_root = os.path.abspath(os.path.join(notebook_dir, \"..\"))\n",
    "if project_root not in sys.path:\n",
    "    sys.path.insert(0, project_root)\n",
    "os.chdir(project_root)\n",
    "\n",
    "import utils.text_processing as tp\n",
    "from utils.text_processing import clean_text\n",
    "from prompt_templates import load_privacy_ontology, create_annotation_prompt, count_tokens\n",
    "# Create and load human annotation data \n",
    "prompts_data_json_file = 'data/annotations/prompts_data.json'\n",
    "\n",
    "if not os.path.exists(prompts_data_json_file):\n",
    "    prompt_templates_dict = tp.create_prompts_data_json(annotations_dir='data/annotations', ontology_path='privacy_ontology.json', output_json=prompts_data_json_file)\n",
    "else:\n",
    "    print(f\"Using existing prompts data JSON: {prompts_data_json_file}\")\n",
    "    with open(prompts_data_json_file, 'r', encoding='utf-8') as f:\n",
    "         prompt_templates_dict = json.load(f)\n"
   ]
  },
  {
   "cell_type": "markdown",
   "metadata": {},
   "source": []
  },
  {
   "cell_type": "markdown",
   "metadata": {},
   "source": [
    "### Annotating with LLMs"
   ]
  },
  {
   "cell_type": "code",
   "execution_count": 3,
   "metadata": {},
   "outputs": [
    {
     "name": "stdout",
     "output_type": "stream",
     "text": [
      "Model: groq:qwen-2.5-32b - Completed a run for prompt starting with: Your mission is to annotate so...\n",
      "Processed file: Actual_Budget\\Accounts_&_Transactions.txt\n",
      "Model: groq:qwen-2.5-32b - Completed a run for prompt starting with: Your mission is to annotate so...\n",
      "Processed file: Actual_Budget\\Backup_&_Restore.txt\n",
      "Model: groq:qwen-2.5-32b - Completed a run for prompt starting with: Your mission is to annotate so...\n",
      "Processed file: Akaunting\\CreatingAnewAccount.txt\n",
      "Model: groq:qwen-2.5-32b - Completed a run for prompt starting with: Your mission is to annotate so...\n",
      "Processed file: Attendize\\features.txt\n",
      "Model: groq:qwen-2.5-32b - Completed a run for prompt starting with: Your mission is to annotate so...\n",
      "Processed file: Mattermost_Architecture\\Navigation.txt\n",
      "Model: groq:qwen-2.5-32b - Completed a run for prompt starting with: Your mission is to annotate so...\n",
      "Processed file: Monica\\README.txt\n",
      "Model: groq:qwen-2.5-32b - Completed a run for prompt starting with: Your mission is to annotate so...\n",
      "Processed file: OpenTracks\\data-structure.txt\n",
      "Model: groq:qwen-2.5-32b - Completed a run for prompt starting with: Your mission is to annotate so...\n",
      "Processed file: Synapse\\account_data_callbacks.txt\n",
      "Model: groq:qwen-2.5-32b - Completed a run for prompt starting with: Your mission is to annotate so...\n",
      "Processed file: Synapse\\account_validity_callbacks.txt\n",
      "Model: groq:qwen-2.5-32b - Completed a run for prompt starting with: Your mission is to annotate so...\n",
      "Processed file: Synapse\\password_auth_provider_callbacks.txt\n",
      "Model: groq:qwen-2.5-32b - Completed a run for prompt starting with: Your mission is to annotate so...\n",
      "Processed file: TracDev_Docs\\DatabaseSchema.txt\n",
      "Model: groq:qwen-2.5-32b - Completed a run for prompt starting with: Your mission is to annotate so...\n",
      "Processed file: TracDev_Docs\\INotificationDistributor.txt\n",
      "Model: groq:qwen-2.5-32b - Completed a run for prompt starting with: Your mission is to annotate so...\n",
      "Processed file: TracDev_Docs\\INotificationSubscriber.txt\n",
      "Model: groq:qwen-2.5-32b - Completed a run for prompt starting with: Your mission is to annotate so...\n",
      "Processed file: Zulip\\file.txt\n",
      "Model: groq:qwen-2.5-32b - Completed a run for prompt starting with: Your mission is to annotate so...\n",
      "Processed file: element-android\\add_threePids.txt\n",
      "Model: groq:qwen-2.5-32b - Completed a run for prompt starting with: Your mission is to annotate so...\n",
      "Processed file: friendica\\account-basics.txt\n",
      "Model: groq:qwen-2.5-32b - Completed a run for prompt starting with: Your mission is to annotate so...\n",
      "Processed file: gotosocial\\signups.txt\n",
      "Model: groq:qwen-2.5-32b - Completed a run for prompt starting with: Your mission is to annotate so...\n",
      "Processed file: invoiceninja\\userdetails.txt\n",
      "Model: groq:qwen-2.5-32b - Completed a run for prompt starting with: Your mission is to annotate so...\n",
      "Processed file: jitsi-meet\\configurations.txt\n",
      "Model: groq:qwen-2.5-32b - Completed a run for prompt starting with: Your mission is to annotate so...\n",
      "Processed file: joinlemmy\\Getting Started.txt\n",
      "Model: groq:qwen-2.5-32b - Completed a run for prompt starting with: Your mission is to annotate so...\n",
      "Processed file: koel\\profile-preferences.txt\n",
      "Model: groq:qwen-2.5-32b - Completed a run for prompt starting with: Your mission is to annotate so...\n",
      "Processed file: lh-ehr\\Direct_Messaging_README.txt\n",
      "Model: groq:qwen-2.5-32b - Completed a run for prompt starting with: Your mission is to annotate so...\n",
      "Processed file: openMRS\\Architecture.txt\n",
      "Model: groq:qwen-2.5-32b - Completed a run for prompt starting with: Your mission is to annotate so...\n",
      "Processed file: peertube\\managing-users.txt\n",
      "Model: groq:qwen-2.5-32b - Completed a run for prompt starting with: Your mission is to annotate so...\n",
      "Processed file: sharetribe\\analyrics-events.txt\n",
      "Annotation results saved to data/responses/LLMAnnotation_4o.csv\n",
      "Number of files processed: 25\n"
     ]
    }
   ],
   "source": [
    "from getpass import getpass\n",
    "import os\n",
    "from model_routes import model_routing\n",
    "\n",
    "# Prompt for API keys\n",
    "os.environ['OPENAI_API_KEY'] = getpass('Enter your OPENAI API key: ')\n",
    "os.environ['GROQ_API_KEY']   = getpass('Enter your Groq API key: ')\n",
    "\n",
    "output_csv = 'data/responses/LLMAnnotation_4o.csv'\n",
    "\n",
    "models = [\n",
    "    'groq:qwen-2.5-32b'\n",
    "    # 'openai:gpt-4o-latest'\n",
    "]\n",
    "\n",
    "# Run the multi-file annotation process on that one model\n",
    "model_routing.run_multi_file_annotations(prompt_templates_dict, output_csv, models=models, num_runs=1)\n"
   ]
  }
 ],
 "metadata": {
  "kernelspec": {
   "display_name": "Python 3",
   "language": "python",
   "name": "python3"
  },
  "language_info": {
   "codemirror_mode": {
    "name": "ipython",
    "version": 3
   },
   "file_extension": ".py",
   "mimetype": "text/x-python",
   "name": "python",
   "nbconvert_exporter": "python",
   "pygments_lexer": "ipython3",
   "version": "3.11.9"
  }
 },
 "nbformat": 4,
 "nbformat_minor": 2
}
