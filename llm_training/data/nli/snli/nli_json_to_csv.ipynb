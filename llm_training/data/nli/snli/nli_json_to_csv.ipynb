version https://git-lfs.github.com/spec/v1
oid sha256:921d2ed0d8acbaf268046276d4fd3b239328239edb8347e0005919e04c3cc771
size 260617
